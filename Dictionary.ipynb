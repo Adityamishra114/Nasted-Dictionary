{
 "cells": [
  {
   "cell_type": "markdown",
   "id": "308cb963",
   "metadata": {},
   "source": [
    "## Dictionary"
   ]
  },
  {
   "cell_type": "markdown",
   "id": "76af6f9f",
   "metadata": {},
   "source": [
    "1. Display student1 data?\n",
    "2. Display course name of student2?\n",
    "3. Display total numbers of courses of student4?\n",
    "4. Display all students names?\n",
    "5. Display all Students names who is spending 5000 or above to learn course?\n",
    "6. Display all courses which fee is 3000?\n",
    "7. Display all unique locations?\n",
    "8. Display all Students names who are learning 'Python' Course?\n",
    "9. Display the second course of each student?"
   ]
  },
  {
   "cell_type": "code",
   "execution_count": 1,
   "id": "778a4f52",
   "metadata": {},
   "outputs": [],
   "source": [
    "students = {\n",
    "'student1':{'Name':'Gaurav', 'Loc':'Delhi', 'Courses':'Full Stack', 'Fee': 3000},\n",
    "'student2':{'Name':'Aditya', 'Loc':'Mumbai', 'Courses':'Full Stack', 'Fee': 3000},\n",
    "'student3':{'Name':'Pankaj', 'Loc':'Mumbai', 'Courses':['Python','Django', 'Flask'], 'Fee': 3000},\n",
    "'student4':{'Name':'Ritesh', 'Loc':'Chennai', 'Courses':['Excel','PowerBI','SQL'], 'Fee': 4000},\n",
    "'student5':{'Name':'Abhishek', 'Loc':'Kolkata', 'Courses':['Python','Excel','Full Stack'], 'Fee': 5000},\n",
    "}"
   ]
  },
  {
   "cell_type": "code",
   "execution_count": 2,
   "id": "daab8465",
   "metadata": {},
   "outputs": [
    {
     "name": "stdout",
     "output_type": "stream",
     "text": [
      "{'Name': 'Gaurav', 'Loc': 'Delhi', 'Courses': 'Full Stack', 'Fee': 3000}\n"
     ]
    }
   ],
   "source": [
    "#1. Display student1 data?\n",
    "print(students[\"student1\"])"
   ]
  },
  {
   "cell_type": "code",
   "execution_count": 3,
   "id": "3d7115dd",
   "metadata": {},
   "outputs": [
    {
     "name": "stdout",
     "output_type": "stream",
     "text": [
      "Full Stack\n"
     ]
    }
   ],
   "source": [
    "#2. Display course name of student2?\n",
    "print(students[\"student2\"][\"Courses\"])"
   ]
  },
  {
   "cell_type": "code",
   "execution_count": 4,
   "id": "33fc5b28",
   "metadata": {},
   "outputs": [
    {
     "name": "stdout",
     "output_type": "stream",
     "text": [
      "3\n"
     ]
    }
   ],
   "source": [
    "#3.Display total numbers of courses of student4?\n",
    "print(len(students[\"student4\"][\"Courses\"]))\n"
   ]
  },
  {
   "cell_type": "code",
   "execution_count": 5,
   "id": "7560c9c3",
   "metadata": {},
   "outputs": [
    {
     "name": "stdout",
     "output_type": "stream",
     "text": [
      "Gaurav\n",
      "Aditya\n",
      "Pankaj\n",
      "Ritesh\n",
      "Abhishek\n"
     ]
    }
   ],
   "source": [
    "#4.Display all students names?\n",
    "student_list=(students.keys())\n",
    "for i in student_list:\n",
    "    print(students[i][\"Name\"])"
   ]
  },
  {
   "cell_type": "code",
   "execution_count": 6,
   "id": "e0887544",
   "metadata": {},
   "outputs": [
    {
     "name": "stdout",
     "output_type": "stream",
     "text": [
      "Abhishek\n"
     ]
    }
   ],
   "source": [
    "#5. Display all Students names who is spending 5000 or above to learn course?\n",
    "student_list=(students.keys())\n",
    "for i in student_list:\n",
    "    if students[i][\"Fee\"]>=5000:\n",
    "        print(students[i][\"Name\"])"
   ]
  },
  {
   "cell_type": "code",
   "execution_count": 7,
   "id": "d5b3944d",
   "metadata": {},
   "outputs": [
    {
     "name": "stdout",
     "output_type": "stream",
     "text": [
      "Full Stack\n",
      "Full Stack\n",
      "['Python', 'Django', 'Flask']\n",
      "['Excel', 'PowerBI', 'SQL']\n",
      "['Python', 'Excel', 'Full Stack']\n"
     ]
    }
   ],
   "source": [
    "#6.Display all courses which fee is 3000?\n",
    "student_list=(students.keys())\n",
    "for i in student_list:\n",
    "    if students[i][\"Fee\"]>=3000:\n",
    "        print(students[i][\"Courses\"])"
   ]
  },
  {
   "cell_type": "code",
   "execution_count": 8,
   "id": "60c87c70",
   "metadata": {},
   "outputs": [
    {
     "name": "stdout",
     "output_type": "stream",
     "text": [
      "Delhi\n",
      "Mumbai\n",
      "Mumbai\n",
      "Chennai\n",
      "Kolkata\n"
     ]
    }
   ],
   "source": [
    "#7.Display all unique locations?\n",
    "student_list=(students.keys())\n",
    "for i in student_list:\n",
    "    print(students[i][\"Loc\"])"
   ]
  },
  {
   "cell_type": "code",
   "execution_count": 9,
   "id": "a6cc11f0",
   "metadata": {},
   "outputs": [
    {
     "name": "stdout",
     "output_type": "stream",
     "text": [
      "Pankaj\n",
      "Abhishek\n"
     ]
    }
   ],
   "source": [
    "#8.Display all Students names who are learning 'Python' Course?\n",
    "student_list=(students.keys())\n",
    "for i in student_list:\n",
    "    if \"Python\" in students[i][\"Courses\"]:\n",
    "        print(students[i][\"Name\"])\n"
   ]
  },
  {
   "cell_type": "code",
   "execution_count": 10,
   "id": "ad159348",
   "metadata": {},
   "outputs": [
    {
     "name": "stdout",
     "output_type": "stream",
     "text": [
      "u\n",
      "u\n",
      "Django\n",
      "PowerBI\n",
      "Excel\n"
     ]
    }
   ],
   "source": [
    "#9.Display the second course of each student?\n",
    "student_list=(students.keys())\n",
    "for i in student_list:\n",
    "    if students[i][\"Courses\"]:\n",
    "        print(students[i][\"Courses\"][1])"
   ]
  },
  {
   "cell_type": "code",
   "execution_count": null,
   "id": "b558df56",
   "metadata": {},
   "outputs": [],
   "source": []
  }
 ],
 "metadata": {
  "kernelspec": {
   "display_name": "Python 3",
   "language": "python",
   "name": "python3"
  },
  "language_info": {
   "codemirror_mode": {
    "name": "ipython",
    "version": 3
   },
   "file_extension": ".py",
   "mimetype": "text/x-python",
   "name": "python",
   "nbconvert_exporter": "python",
   "pygments_lexer": "ipython3",
   "version": "3.8.8"
  }
 },
 "nbformat": 4,
 "nbformat_minor": 5
}
